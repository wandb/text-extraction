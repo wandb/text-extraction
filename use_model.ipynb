{
 "cells": [
  {
   "cell_type": "code",
   "execution_count": 1,
   "id": "e842b662-14a9-4b06-bf95-d35ffe15493a",
   "metadata": {},
   "outputs": [],
   "source": [
    "import weave\n",
    "from weave.monitoring import init_monitor\n",
    "import model_basic\n",
    "import settings"
   ]
  },
  {
   "cell_type": "code",
   "execution_count": 2,
   "id": "40d5e49d-9156-4187-aac3-8daf8b59c666",
   "metadata": {},
   "outputs": [
    {
     "data": {
      "text/html": [
       " View data at <a href='https://weave.wandb.ai/browse/wandb/shawn/text-extract12/table/predictions' target=\"_blank\">https://weave.wandb.ai/browse/wandb/shawn/text-extract12/table/predictions</a>"
      ],
      "text/plain": [
       "<IPython.core.display.HTML object>"
      ]
     },
     "metadata": {},
     "output_type": "display_data"
    },
    {
     "data": {
      "text/plain": [
       "Monitor(_streamtable=<weave.wandb_interface.wandb_stream_table.StreamTable object at 0x1078a2fa0>, _showed_not_logging_warning=False)"
      ]
     },
     "execution_count": 2,
     "metadata": {},
     "output_type": "execute_result"
    }
   ],
   "source": [
    "init_monitor(f'{settings.entity}/{settings.project}/{settings.predictions_stream_name}')"
   ]
  },
  {
   "cell_type": "code",
   "execution_count": 3,
   "id": "663162c8-f6da-4a78-84ce-8b9b99329b4b",
   "metadata": {},
   "outputs": [],
   "source": [
    "#model = model_basic.PredictBasic({'shares_skip_chars': 3, 'name_up_to_period': True})\n",
    "\n",
    "# OR\n",
    "\n",
    "model = weave.ops.get('wandb-artifact:///shawn/text-extract12/PredictBasic:eb57fe5c029ab23b1ee7/obj')"
   ]
  },
  {
   "cell_type": "code",
   "execution_count": 4,
   "id": "006bd3bf-fe8e-4fde-95c4-7db7c4a26522",
   "metadata": {},
   "outputs": [],
   "source": [
    "res = weave.use(model.predict(\"my name is wilfred\"))"
   ]
  },
  {
   "cell_type": "code",
   "execution_count": 5,
   "id": "ca2352ad-379c-4b3a-9b71-ef4a6d8aa633",
   "metadata": {},
   "outputs": [],
   "source": [
    "output = weave.use(weave.ops.get(f\"wandb-artifact:///{settings.entity}/{settings.project}/{settings.predictions_stream_name}:latest/obj\").rows()['inputs.self'])"
   ]
  },
  {
   "cell_type": "code",
   "execution_count": 7,
   "id": "3c238802-c292-496e-85ac-e4d5bcf4ebec",
   "metadata": {},
   "outputs": [
    {
     "data": {
      "text/plain": [
       "3"
      ]
     },
     "execution_count": 7,
     "metadata": {},
     "output_type": "execute_result"
    }
   ],
   "source": [
    "len(output)"
   ]
  }
 ],
 "metadata": {
  "kernelspec": {
   "display_name": "Python 3 (ipykernel)",
   "language": "python",
   "name": "python3"
  },
  "language_info": {
   "codemirror_mode": {
    "name": "ipython",
    "version": 3
   },
   "file_extension": ".py",
   "mimetype": "text/x-python",
   "name": "python",
   "nbconvert_exporter": "python",
   "pygments_lexer": "ipython3",
   "version": "3.9.7"
  }
 },
 "nbformat": 4,
 "nbformat_minor": 5
}
