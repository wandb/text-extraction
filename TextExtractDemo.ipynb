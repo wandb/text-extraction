{
 "cells": [
  {
   "cell_type": "code",
   "execution_count": 1,
   "id": "afabe6af-3746-46af-9335-6caa8e67d491",
   "metadata": {},
   "outputs": [],
   "source": [
    "import glob\n",
    "import os\n",
    "import json\n",
    "import typing\n",
    "import weave\n",
    "\n",
    "import base_types\n",
    "#weave.use_frontend_devmode()"
   ]
  },
  {
   "cell_type": "code",
   "execution_count": 2,
   "id": "2d042799-0d61-415f-87e9-0c84e333759f",
   "metadata": {},
   "outputs": [],
   "source": [
    "PROJECT = 'text-extract32'"
   ]
  },
  {
   "cell_type": "code",
   "execution_count": 3,
   "id": "fd984de5-0811-4fc9-b689-26bc475adb39",
   "metadata": {},
   "outputs": [
    {
     "name": "stdout",
     "output_type": "stream",
     "text": [
      "Articles_of_Incorporation_Real_Example_1.txt\n",
      "Articles_of_Incorporation_Real_Example_2.txt\n",
      "Articles_of_Incorporation_Real_Example_3.txt\n",
      "Highly_Varied_Article_of_Incorporation_1.txt\n",
      "Highly_Varied_Article_of_Incorporation_10.txt\n",
      "Highly_Varied_Article_of_Incorporation_2.txt\n",
      "Highly_Varied_Article_of_Incorporation_3.txt\n",
      "Highly_Varied_Article_of_Incorporation_4.txt\n",
      "Highly_Varied_Article_of_Incorporation_5.txt\n",
      "Highly_Varied_Article_of_Incorporation_6.txt\n",
      "Highly_Varied_Article_of_Incorporation_7.txt\n",
      "Highly_Varied_Article_of_Incorporation_8.txt\n",
      "Highly_Varied_Article_of_Incorporation_9.txt\n",
      "labels.json\n"
     ]
    }
   ],
   "source": [
    "!ls dataset"
   ]
  },
  {
   "cell_type": "code",
   "execution_count": 4,
   "id": "442171d2-523c-4da5-afed-953bdc5ac684",
   "metadata": {},
   "outputs": [
    {
     "name": "stdout",
     "output_type": "stream",
     "text": [
      "\n",
      "Articles of Incorporation of TechBoost Corp\n",
      "\n",
      "Article I: Name\n",
      "The name of the corporation is TechBoost Corp.\n",
      "\n",
      "Article II: Purpose\n",
      "The purpose of this corporation is to engage in any lawful act or activity for which corporations may be organized under the California Corporation Code.\n",
      "\n",
      "Article III: Registered Agent\n",
      "The address of the registered agent is 1234 Silicon Valley Blvd, San Jose, CA 95131.\n",
      "\n",
      "Article IV: Share Structure\n",
      "The corporation is authorized to issue 1,000,000 shares of Common Stock.\n",
      "\n",
      "Article V: Directors\n",
      "The names and addresses of the initial directors are as follows:\n",
      "- Alice Johnson, 5678 Tech Park Dr, Palo Alto, CA 94306\n",
      "- Bob Smith, 9101 Innovation Way, Mountain View, CA 94043\n",
      "\n",
      "Article VI: Incorporators\n",
      "The names and addresses of the incorporators are as follows:\n",
      "- Emily Davis, 1112 Startup St, San Francisco, CA 94103\n",
      "- Mark Lee, 1314 Venture Ave, Santa Clara, CA 95050\n",
      "\n",
      "Article VII: Dissolution\n",
      "Upon dissolution, assets will be distributed for one or more exempt purposes within the meaning of Section 501(c)(3) of the Internal Revenue Code.\n",
      "\n",
      "In witness whereof, the undersigned incorporator has executed these Articles of Incorporation.\n",
      "\n",
      "_________________________\n",
      "Emily Davis\n",
      "\n"
     ]
    }
   ],
   "source": [
    "example_doc = open('dataset/Articles_of_Incorporation_Real_Example_1.txt').read()\n",
    "print(example_doc)"
   ]
  },
  {
   "cell_type": "code",
   "execution_count": 7,
   "id": "e1852db4-3c58-4cd3-a097-873122698921",
   "metadata": {},
   "outputs": [],
   "source": [
    "import re\n",
    "\n",
    "def predict_name(doc: str) -> typing.Any:\n",
    "    match = re.search(r'name.*is ([^.]*)(\\.|\\n)', doc)\n",
    "    return match.group(1) if match else None\n",
    "\n",
    "def predict_shares(doc: str) -> typing.Any:\n",
    "    match = re.search(r'[Ss]hares.*?([\\d,]+)', doc)\n",
    "    return match.group(1).replace(',', '') if match else None\n",
    "\n",
    "@weave.op()\n",
    "def predict(doc: str) -> typing.Any:\n",
    "    return {\n",
    "        'name': predict_name(doc),\n",
    "        'shares': predict_shares(doc)\n",
    "    }"
   ]
  },
  {
   "cell_type": "code",
   "execution_count": 10,
   "id": "1982a426-3ae6-4718-8351-d12808577566",
   "metadata": {},
   "outputs": [
    {
     "data": {
      "text/plain": [
       "{'name': 'TechBoost Corp', 'shares': None}"
      ]
     },
     "execution_count": 10,
     "metadata": {},
     "output_type": "execute_result"
    }
   ],
   "source": [
    "weave.use(predict(example_doc))"
   ]
  },
  {
   "cell_type": "code",
   "execution_count": 9,
   "id": "e9927a30-738f-480f-bb26-41468bee87c2",
   "metadata": {},
   "outputs": [
    {
     "data": {
      "text/html": [
       " View data at <a href='https://weave.wandb.ai/browse/wandb/shawn/text-extract32/table/stream' target=\"_blank\">https://weave.wandb.ai/browse/wandb/shawn/text-extract32/table/stream</a>"
      ],
      "text/plain": [
       "<IPython.core.display.HTML object>"
      ]
     },
     "metadata": {},
     "output_type": "display_data"
    },
    {
     "data": {
      "text/plain": [
       "Monitor(_streamtable=<weave.wandb_interface.wandb_stream_table.StreamTable object at 0x2a3020940>, _showed_not_logging_warning=False)"
      ]
     },
     "execution_count": 9,
     "metadata": {},
     "output_type": "execute_result"
    }
   ],
   "source": [
    "from weave.monitoring import init_monitor\n",
    "init_monitor(f'shawn/{PROJECT}/stream')"
   ]
  },
  {
   "cell_type": "code",
   "execution_count": 11,
   "id": "2f23fc8c-788a-4b64-b1d0-e2f3d1762ec0",
   "metadata": {},
   "outputs": [],
   "source": [
    "# Read in our dataset\n",
    "def read_dataset():\n",
    "    dataset_rows = []\n",
    "    raw_labels = json.load(open(os.path.join(\"dataset\", \"labels.json\")))\n",
    "    for p in glob.glob(os.path.join(\"dataset\", \"*.txt\")):\n",
    "        example_id = os.path.basename(p).replace(\".\", \"_\")\n",
    "        label = raw_labels.get(example_id)\n",
    "        if label:\n",
    "            dataset_rows.append(\n",
    "                {\"id\": example_id, \"example\": open(p).read(), \"label\": label})\n",
    "    return weave.WeaveList(dataset_rows)\n",
    "\n",
    "@weave.type()\n",
    "class Dataset:\n",
    "    rows: list[typing.Any]\n",
    "\n",
    "# Construct and publish to W&B\n",
    "dataset = Dataset(read_dataset())\n",
    "dataset_ref = weave.storage.publish(dataset, f\"{PROJECT}/dataset\")"
   ]
  },
  {
   "cell_type": "code",
   "execution_count": 12,
   "id": "907cd19a-728f-49c5-b3cd-7c6c6457793a",
   "metadata": {},
   "outputs": [
    {
     "name": "stdout",
     "output_type": "stream",
     "text": [
      "{'name': None, 'shares': '31783'}\n",
      "{'name': 'Gibson, Hunt and Davidson', 'shares': None}\n",
      "{'name': 'HealthFirst Solutions LLC', 'shares': '500000'}\n",
      "{'name': 'GreenLeaf Inc', 'shares': None}\n",
      "{'name': 'TechBoost Corp', 'shares': None}\n",
      "{'name': None, 'shares': '41141'}\n",
      "{'name': None, 'shares': '73981'}\n",
      "{'name': None, 'shares': '41300'}\n",
      "{'name': None, 'shares': '98608'}\n",
      "{'name': None, 'shares': '5732'}\n",
      "{'name': None, 'shares': '78821'}\n",
      "{'name': None, 'shares': '76197'}\n",
      "{'name': None, 'shares': '54183'}\n"
     ]
    }
   ],
   "source": [
    "for row in dataset_ref.get().rows:\n",
    "    print(weave.use(predict(row['example'])))"
   ]
  },
  {
   "cell_type": "code",
   "execution_count": 14,
   "id": "60d12d45-914d-4865-8cb1-70a674e419ea",
   "metadata": {},
   "outputs": [],
   "source": [
    "@weave.type()\n",
    "class Model:\n",
    "    pass\n",
    "    \n",
    "@weave.type()\n",
    "class RegexModel(Model):\n",
    "    @weave.op()\n",
    "    def predict(self, doc: str) -> typing.Any:\n",
    "        return {\n",
    "            'name': predict_name(doc),\n",
    "            'shares': predict_shares(doc)\n",
    "        }"
   ]
  },
  {
   "cell_type": "code",
   "execution_count": 15,
   "id": "b50a8794-3e01-47e2-9dd5-3bc2a2d2da7b",
   "metadata": {},
   "outputs": [
    {
     "data": {
      "text/plain": [
       "{'eval_table': <ArrowWeaveList: TypedDict(property_types={'dataset_id': String(), 'output': TypedDict(property_types={'name': UnionType(members=[NoneType(), String()]), 'shares': UnionType(members=[String(), NoneType()])}, not_required_keys=set()), 'latency': Float(), 'summary': TypedDict(property_types={'name_correct': UnionType(members=[NoneType(), Boolean()]), 'name_negative': UnionType(members=[NoneType(), Boolean()]), 'shares_correct': UnionType(members=[NoneType(), Boolean()]), 'shares_negative': UnionType(members=[NoneType(), Boolean()]), 'directors_correct': UnionType(members=[NoneType(), Boolean()]), 'directors_negative': UnionType(members=[NoneType(), Boolean()]), 'correct': UnionType(members=[NoneType(), Int()]), 'negative': UnionType(members=[NoneType(), Int()]), 'tp': UnionType(members=[NoneType(), Int()]), 'fp': UnionType(members=[NoneType(), Int()]), 'tn': UnionType(members=[NoneType(), Int()]), 'fn': UnionType(members=[NoneType(), Int()]), 'precision': UnionType(members=[NoneType(), Float()]), 'recall': UnionType(members=[NoneType(), Float()]), 'f1': UnionType(members=[NoneType(), Float()])}, not_required_keys=set())}, not_required_keys=set())>,\n",
       " 'summary': {'task_name': {'tp': 3,\n",
       "   'fp': 1,\n",
       "   'tn': 0,\n",
       "   'fn': 9,\n",
       "   'precision': 0.75,\n",
       "   'recall': 0.25,\n",
       "   'f1': 0.375},\n",
       "  'task_shares': {'tp': 0,\n",
       "   'fp': 10,\n",
       "   'tn': 0,\n",
       "   'fn': 3,\n",
       "   'precision': 0.0,\n",
       "   'recall': 0.0,\n",
       "   'f1': 0},\n",
       "  'task_directors': {'tp': 0,\n",
       "   'fp': 0,\n",
       "   'tn': 0,\n",
       "   'fn': 13,\n",
       "   'precision': 0,\n",
       "   'recall': 0.0,\n",
       "   'f1': 0},\n",
       "  'avg_precision': 0.25,\n",
       "  'avg_recall': 0.08333333333333333,\n",
       "  'avg_f1': 0.125}}"
      ]
     },
     "execution_count": 15,
     "metadata": {},
     "output_type": "execute_result"
    }
   ],
   "source": [
    "import op_evaluate\n",
    "weave.use(op_evaluate.evaluate_multi_task_f1(dataset_ref.get(), RegexModel()))"
   ]
  },
  {
   "cell_type": "code",
   "execution_count": 16,
   "id": "0d4f8d4a-c9c3-4a96-8415-41a874d37cb8",
   "metadata": {},
   "outputs": [],
   "source": [
    "import json\n",
    "from weave.monitoring import openai\n",
    "\n",
    "@weave.type()\n",
    "class OpenAIChatModel(Model):\n",
    "    model_name: str\n",
    "    temperature: float\n",
    "\n",
    "    @weave.op()\n",
    "    def predict(self, doc: str) -> typing.Any:\n",
    "        response = openai.ChatCompletion.create(\n",
    "            model=self.model_name,\n",
    "            messages=[\n",
    "                {'role': 'user',\n",
    "                 'content': 'Extract company name (name) and number of shares (shares) from the following Articles of Incorporation document, as a json object: %s' % doc}])\n",
    "        result = response['choices'][0]['message']['content']\n",
    "        parsed = json.loads(result)\n",
    "        return {\n",
    "            'name': parsed['name'],\n",
    "            'shares': int(parsed['shares'])\n",
    "        }"
   ]
  },
  {
   "cell_type": "code",
   "execution_count": 17,
   "id": "5149c23f-a56e-4693-ad88-75c9bb2b88b5",
   "metadata": {},
   "outputs": [
    {
     "data": {
      "text/plain": [
       "{'eval_table': <ArrowWeaveList: TypedDict(property_types={'dataset_id': String(), 'output': TypedDict(property_types={'name': UnionType(members=[String(), NoneType()]), 'shares': UnionType(members=[Int(), NoneType()])}, not_required_keys=set()), 'latency': Float(), 'summary': TypedDict(property_types={'name_correct': UnionType(members=[NoneType(), Boolean()]), 'name_negative': UnionType(members=[NoneType(), Boolean()]), 'shares_correct': UnionType(members=[NoneType(), Boolean()]), 'shares_negative': UnionType(members=[NoneType(), Boolean()]), 'directors_correct': UnionType(members=[NoneType(), Boolean()]), 'directors_negative': UnionType(members=[NoneType(), Boolean()]), 'correct': UnionType(members=[NoneType(), Int()]), 'negative': UnionType(members=[NoneType(), Int()]), 'tp': UnionType(members=[NoneType(), Int()]), 'fp': UnionType(members=[NoneType(), Int()]), 'tn': UnionType(members=[NoneType(), Int()]), 'fn': UnionType(members=[NoneType(), Int()]), 'precision': UnionType(members=[NoneType(), Float()]), 'recall': UnionType(members=[NoneType(), Float()]), 'f1': UnionType(members=[NoneType(), Float()])}, not_required_keys=set())}, not_required_keys=set())>,\n",
       " 'summary': {'task_name': {'tp': 9,\n",
       "   'fp': 0,\n",
       "   'tn': 0,\n",
       "   'fn': 4,\n",
       "   'precision': 1.0,\n",
       "   'recall': 0.6923076923076923,\n",
       "   'f1': 0.8181818181818181},\n",
       "  'task_shares': {'tp': 9,\n",
       "   'fp': 0,\n",
       "   'tn': 0,\n",
       "   'fn': 4,\n",
       "   'precision': 1.0,\n",
       "   'recall': 0.6923076923076923,\n",
       "   'f1': 0.8181818181818181},\n",
       "  'task_directors': {'tp': 0,\n",
       "   'fp': 0,\n",
       "   'tn': 0,\n",
       "   'fn': 13,\n",
       "   'precision': 0,\n",
       "   'recall': 0.0,\n",
       "   'f1': 0},\n",
       "  'avg_precision': 0.6666666666666666,\n",
       "  'avg_recall': 0.4615384615384615,\n",
       "  'avg_f1': 0.5454545454545454}}"
      ]
     },
     "execution_count": 17,
     "metadata": {},
     "output_type": "execute_result"
    }
   ],
   "source": [
    "weave.use(op_evaluate.evaluate_multi_task_f1(dataset_ref.get(), OpenAIModel('gpt-3.5-turbo')))"
   ]
  }
 ],
 "metadata": {
  "kernelspec": {
   "display_name": "Python 3 (ipykernel)",
   "language": "python",
   "name": "python3"
  },
  "language_info": {
   "codemirror_mode": {
    "name": "ipython",
    "version": 3
   },
   "file_extension": ".py",
   "mimetype": "text/x-python",
   "name": "python",
   "nbconvert_exporter": "python",
   "pygments_lexer": "ipython3",
   "version": "3.9.7"
  }
 },
 "nbformat": 4,
 "nbformat_minor": 5
}
